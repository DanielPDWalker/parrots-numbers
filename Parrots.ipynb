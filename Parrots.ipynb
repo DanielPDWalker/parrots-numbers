{
 "cells": [
  {
   "cell_type": "code",
   "execution_count": 6,
   "metadata": {},
   "outputs": [],
   "source": [
    "import pandas as pd\n",
    "import numpy as np\n",
    "import plotly.graph_objects as go\n",
    "\n",
    "%matplotlib inline\n",
    "\n",
    "import warnings\n",
    "warnings.filterwarnings(\"ignore\")"
   ]
  },
  {
   "cell_type": "code",
   "execution_count": 7,
   "metadata": {},
   "outputs": [
    {
     "data": {
      "text/html": [
       "<div>\n",
       "<style scoped>\n",
       "    .dataframe tbody tr th:only-of-type {\n",
       "        vertical-align: middle;\n",
       "    }\n",
       "\n",
       "    .dataframe tbody tr th {\n",
       "        vertical-align: top;\n",
       "    }\n",
       "\n",
       "    .dataframe thead th {\n",
       "        text-align: right;\n",
       "    }\n",
       "</style>\n",
       "<table border=\"1\" class=\"dataframe\">\n",
       "  <thead>\n",
       "    <tr style=\"text-align: right;\">\n",
       "      <th></th>\n",
       "      <th>SpcRecID</th>\n",
       "      <th>Scientific name</th>\n",
       "      <th>English name</th>\n",
       "      <th>Family</th>\n",
       "      <th>Global IUCN Red List Category</th>\n",
       "    </tr>\n",
       "  </thead>\n",
       "  <tbody>\n",
       "    <tr>\n",
       "      <th>481</th>\n",
       "      <td>8694</td>\n",
       "      <td>Erythrura kleinschmidti</td>\n",
       "      <td>Pink-billed Parrotfinch</td>\n",
       "      <td>Estrildidae (Waxbills, grass finches, munias a...</td>\n",
       "      <td>VU</td>\n",
       "    </tr>\n",
       "    <tr>\n",
       "      <th>482</th>\n",
       "      <td>8381</td>\n",
       "      <td>Passer gongonensis</td>\n",
       "      <td>Parrot-billed Sparrow</td>\n",
       "      <td>Passeridae (Sparrows, snowfinches and allies)</td>\n",
       "      <td>LC</td>\n",
       "    </tr>\n",
       "    <tr>\n",
       "      <th>483</th>\n",
       "      <td>8905</td>\n",
       "      <td>Pseudonestor xanthophrys</td>\n",
       "      <td>Maui Parrotbill</td>\n",
       "      <td>Fringillidae (Finches and Hawaiian honeycreepers)</td>\n",
       "      <td>CR</td>\n",
       "    </tr>\n",
       "    <tr>\n",
       "      <th>484</th>\n",
       "      <td>8876</td>\n",
       "      <td>Loxia pytyopsittacus</td>\n",
       "      <td>Parrot Crossbill</td>\n",
       "      <td>Fringillidae (Finches and Hawaiian honeycreepers)</td>\n",
       "      <td>LC</td>\n",
       "    </tr>\n",
       "    <tr>\n",
       "      <th>485</th>\n",
       "      <td>9543</td>\n",
       "      <td>Sporophila peruviana</td>\n",
       "      <td>Parrot-billed Seedeater</td>\n",
       "      <td>Thraupidae (Tanagers)</td>\n",
       "      <td>LC</td>\n",
       "    </tr>\n",
       "  </tbody>\n",
       "</table>\n",
       "</div>"
      ],
      "text/plain": [
       "     SpcRecID           Scientific name             English name  \\\n",
       "481      8694   Erythrura kleinschmidti  Pink-billed Parrotfinch   \n",
       "482      8381        Passer gongonensis    Parrot-billed Sparrow   \n",
       "483      8905  Pseudonestor xanthophrys          Maui Parrotbill   \n",
       "484      8876      Loxia pytyopsittacus         Parrot Crossbill   \n",
       "485      9543      Sporophila peruviana  Parrot-billed Seedeater   \n",
       "\n",
       "                                                Family  \\\n",
       "481  Estrildidae (Waxbills, grass finches, munias a...   \n",
       "482      Passeridae (Sparrows, snowfinches and allies)   \n",
       "483  Fringillidae (Finches and Hawaiian honeycreepers)   \n",
       "484  Fringillidae (Finches and Hawaiian honeycreepers)   \n",
       "485                              Thraupidae (Tanagers)   \n",
       "\n",
       "    Global IUCN Red List Category  \n",
       "481                            VU  \n",
       "482                            LC  \n",
       "483                            CR  \n",
       "484                            LC  \n",
       "485                            LC  "
      ]
     },
     "execution_count": 7,
     "metadata": {},
     "output_type": "execute_result"
    }
   ],
   "source": [
    "df = pd.read_csv('./private_data/parrots_birdlife.csv')\n",
    "df.tail()"
   ]
  },
  {
   "cell_type": "code",
   "execution_count": null,
   "metadata": {},
   "outputs": [],
   "source": []
  }
 ],
 "metadata": {
  "kernelspec": {
   "display_name": "Python 3",
   "language": "python",
   "name": "python3"
  },
  "language_info": {
   "codemirror_mode": {
    "name": "ipython",
    "version": 3
   },
   "file_extension": ".py",
   "mimetype": "text/x-python",
   "name": "python",
   "nbconvert_exporter": "python",
   "pygments_lexer": "ipython3",
   "version": "3.7.3"
  }
 },
 "nbformat": 4,
 "nbformat_minor": 2
}
